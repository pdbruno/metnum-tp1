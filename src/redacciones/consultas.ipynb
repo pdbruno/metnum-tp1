{
 "metadata": {
  "language_info": {
   "codemirror_mode": {
    "name": "ipython",
    "version": 3
   },
   "file_extension": ".py",
   "mimetype": "text/x-python",
   "name": "python",
   "nbconvert_exporter": "python",
   "pygments_lexer": "ipython3",
   "version": 3
  },
  "orig_nbformat": 2
 },
 "nbformat": 4,
 "nbformat_minor": 2,
 "cells": [
  {
   "source": [
    "## Consultas:  \n",
    "\n",
    "1. Cuál sería la diferencia exacta entre ’motivación’ y ‘problema a resolver’. Porque yo creo que la motivación para hacer el trabajo es resolver un problema en particular. Puede ser que el problema a resolver se trate de algo más abstracto?  \n",
    "2.  En el desarrollo dice que ‘Deben explicarse los métodos numéricos que utilizaron y su aplicación al problema concreto involucrado en el trabajo práctico.’... Esto significa que.\n"
   ],
   "cell_type": "markdown",
   "metadata": {}
  }
 ]
}