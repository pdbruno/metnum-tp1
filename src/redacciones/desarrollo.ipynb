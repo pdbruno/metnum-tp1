{
 "metadata": {
  "language_info": {
   "codemirror_mode": {
    "name": "ipython",
    "version": 3
   },
   "file_extension": ".py",
   "mimetype": "text/x-python",
   "name": "python",
   "nbconvert_exporter": "python",
   "pygments_lexer": "ipython3",
   "version": "3.8.5"
  },
  "orig_nbformat": 2,
  "kernelspec": {
   "name": "python3",
   "display_name": "Python 3.8.5 64-bit ('base': conda)",
   "metadata": {
    "interpreter": {
     "hash": "b7a72e0aecaf8ba1a38e5a558578c66160445e8a4907431cad47c18ab66b8d64"
    }
   }
  }
 },
 "nbformat": 4,
 "nbformat_minor": 2,
 "cells": [
  {
   "source": [
    "## Desarrollo:\n",
    "    hecho - Explicar los métodos numéricos (CMM,WP,?)  \n",
    "    - Se deben mencionar los pasos que siguieron para implementar los algoritmos, las dificultades que fueron encontrando y la descripci ́on de c ́omo las fueron resolviendo.   \n",
    "    -incluir explicacion de por que el algoritmo funciona correctamente utilizando CMM    \n",
    "    -alternativas consideradas y descartadas para cada uno de los métodos utilizados (CMM, WP, Keener)   \n"
   ],
   "cell_type": "markdown",
   "metadata": {}
  },
  {
   "source": [
    "### Características estudiadas:  \n",
    "1. C es estrictamente diagonal dominante  \n",
    "2. Al ser una matriz estrictamente diagonal dominante, esta es inversible y tiene una única solución. Como tiene una única solución, no será necesario hacer ningún intercambio de filas o columnas durante la EG ya que no tendremos ecuaciones sin solución o infinitas soluciones.  \n",
    "3. ?  \n"
   ],
   "cell_type": "markdown",
   "metadata": {}
  },
  {
   "source": [
    "## Metodos numericos utilizados  \n",
    "\n"
   ],
   "cell_type": "markdown",
   "metadata": {}
  },
  {
   "source": [
    "### Metodo Colley Matrix (CMM)\n",
    "\n",
    "\n"
   ],
   "cell_type": "markdown",
   "metadata": {}
  },
  {
   "source": [
    "Se trata de un metodo que toma de cada partido jugado, \\'unicamente qui\\'enes fueron los participantes y qui\\'en gan\\'o. Acumula los partidos jugados de cada equipo, los partidos jugados por un equipo contra otro (puede repetirse un partido con los mismos equipos), los partidos ganados por cada equipo y los partidos perdidos por cada equipo en las variables $n_i$, $n_ij$, $w_i$ y $l_i$ respectivamente, donde $i$ y $j$ son sobindices que denotan a los equipos. \n",
    "Con estas variables, se construye un sistema lineal $Cr = b$ donde:  \n",
    "\n",
    "\\begin{equation}C_{ij}= \\left\\{ \\begin{array}{lcc}\n",
    "             -n_{ij} &   si  & i \\neq j \\\\\n",
    "             \\\\2 + n_i &  si  & i = j\n",
    "             \\end{array}\n",
    "   \\right.\\end{equation}\\\\\n",
    "   \n",
    "Y $b$ es un vector donde cada componente $b_i = 1 + (w_i + l_i)/2$. La soluci\\'on del sistema $r$ es un vector donde cada componente $r_i$ es el rating del equipo i-\\'esimo.  \n",
    "Ordenando los ratings, se obtiene el ranking.  \n",
    "El vector $r$ es construido como un estimador de la probabilidad de que el i-esimo equipo gane el proximo partido, m\\'as especificamente:  \n",
    "\n",
    "\\begin{equation}r_i = \\frac{1 + w_i}{2 + n_i}\\end{equation} \n",
    "\n",
    "Donde los sumandos del numerador y el denominador se utilizan para modelar de mejor manera las probabilidades de equipos con ninguno o pocos partidos jugados, basados en la regla de sucesion de Laplace (observese que cuando un equipo no ha jugado partidos, su probabilidad de ganar se modela con 1/2 y a medida que aumentan los partidos jugados los efectos de los sumandos se disipan).  \n",
    "Este metodo no considera la posibilidad del empate entre equipos, de modo que la anterior igualdad se puede desarrollar del siguiente modo...\n",
    "\n",
    "\\begin{equation}\\frac{1 + w_i}{2 + n_i} = \\frac{1+w_i}{2+w_i+n_i}\\end{equation}  \n",
    "\n",
    "Por otro lado, considerando que $n_i = w_i + l_i$, podemos reescribir a $w_i$ como:  \n",
    "\\begin{equation} w_i = \\frac{w_i - l_i}{2} + \\frac{n_i}{2} \\\\\n",
    "                     = \\frac{w_i - l_i}{2} + \\frac{\\sum_{j=1}^{n_i}{1}}{2} \\\\\n",
    "                     \\approx \\frac{w_i - l_i}{2} + \\sum_{j=1}^{n_i}{r_i^j}  \\end{equation}\n",
    "\n",
    "Tenemos por ahora entonces que\n",
    "\\begin{equation} w_i\n",
    "                     \\approx \\frac{w_i - l_i}{2} + \\sum_{j=1}^{n_i}{r_i^j}  \\end{equation} y ademas \\begin{equation}r_i = \\frac{1 + w_i}{2 + n_i}\\end{equation} \n",
    "\n",
    "Si despejamos...\n",
    "\n",
    "\\begin{equation} (2 + n_i) r_i - \\sum_{j=1}^{n_i}{r_i^j}  = 1 + \\frac{w_i-l_i}{2}\\end{equation}\n",
    "\n",
    "Lo cual nos lleva a nuestro sistema inicial planteado $Cr=b$.\n",
    "\n"
   ],
   "cell_type": "markdown",
   "metadata": {}
  },
  {
   "source": [
    "### Win percentage (WP)\n",
    "\n",
    "Este metodo modela el rating de cada equipo simplemente como $r_i = w_i / n_i$, y obtiene el ranking a partir de ordenar el vector de ratings $r$."
   ],
   "cell_type": "markdown",
   "metadata": {}
  },
  {
   "source": [
    "### Keener Method\n",
    "\n",
    "El metodo de Keener ya no tiene en cuenta quien gano o perdio, sino mas bien la cantidad de puntos que un equipo anoto frente a otro. \n",
    "Se construye una matriz $K$ donde cada componente $K_{ij}$ es una funcion de los puntos de $i$ contra $j$ y los puntos de $j$ contra $i$, denotados por $S_{ij}$ y $S_{ji}$ respectivamente.\n",
    "\n",
    "\n",
    "\\begin{equation}K_{ij}= \\left\\{ \\begin{array}{lcc}\n",
    "             h(\\frac{S_{ij} + 1}{S_{ij} + S_{ji} + 2}) &   si  \\: i \\: y \\: j \\: se \\: enfrentaron \\\\\n",
    "             \\\\0 &    caso \\: contrario \\\n",
    "             \\end{array}\n",
    "   \\right.\\end{equation}\\\n",
    "\n",
    "   Donde $h(h) = 1/2 + (1/2) \\: sgn(x-1/2) \\sqrt{|2x-1|}$ es la \"funcion suavizadora de Keener\", cuyo objetivo es que el rendimiento de los goles sobre el incremento en el ranking sea decreciente (vease grafico de h)."
   ],
   "cell_type": "markdown",
   "metadata": {}
  },
  {
   "source": [],
   "cell_type": "markdown",
   "metadata": {}
  },
  {
   "cell_type": "code",
   "execution_count": 10,
   "metadata": {},
   "outputs": [],
   "source": [
    "import numpy as np\n",
    "import pandas as pd\n",
    "import matplotlib.pyplot as plt\n",
    "%matplotlib inline\n",
    "\n",
    "import math\n",
    "def h(x):\n",
    "    return (0.5+ 0.5 * np.sign(x-0.5) * np.sqrt(abs(2*x-1)))"
   ]
  },
  {
   "cell_type": "code",
   "execution_count": 11,
   "metadata": {},
   "outputs": [
    {
     "output_type": "execute_result",
     "data": {
      "text/plain": [
       "<AxesSubplot:>"
      ]
     },
     "metadata": {},
     "execution_count": 11
    },
    {
     "output_type": "display_data",
     "data": {
      "text/plain": "<Figure size 432x288 with 1 Axes>",
      "image/svg+xml": "<?xml version=\"1.0\" encoding=\"utf-8\" standalone=\"no\"?>\n<!DOCTYPE svg PUBLIC \"-//W3C//DTD SVG 1.1//EN\"\n  \"http://www.w3.org/Graphics/SVG/1.1/DTD/svg11.dtd\">\n<!-- Created with matplotlib (https://matplotlib.org/) -->\n<svg height=\"248.518125pt\" version=\"1.1\" viewBox=\"0 0 362.5625 248.518125\" width=\"362.5625pt\" xmlns=\"http://www.w3.org/2000/svg\" xmlns:xlink=\"http://www.w3.org/1999/xlink\">\n <metadata>\n  <rdf:RDF xmlns:cc=\"http://creativecommons.org/ns#\" xmlns:dc=\"http://purl.org/dc/elements/1.1/\" xmlns:rdf=\"http://www.w3.org/1999/02/22-rdf-syntax-ns#\">\n   <cc:Work>\n    <dc:type rdf:resource=\"http://purl.org/dc/dcmitype/StillImage\"/>\n    <dc:date>2021-04-15T14:11:00.827707</dc:date>\n    <dc:format>image/svg+xml</dc:format>\n    <dc:creator>\n     <cc:Agent>\n      <dc:title>Matplotlib v3.3.2, https://matplotlib.org/</dc:title>\n     </cc:Agent>\n    </dc:creator>\n   </cc:Work>\n  </rdf:RDF>\n </metadata>\n <defs>\n  <style type=\"text/css\">*{stroke-linecap:butt;stroke-linejoin:round;}</style>\n </defs>\n <g id=\"figure_1\">\n  <g id=\"patch_1\">\n   <path d=\"M 0 248.518125 \nL 362.5625 248.518125 \nL 362.5625 0 \nL 0 0 \nz\n\" style=\"fill:none;\"/>\n  </g>\n  <g id=\"axes_1\">\n   <g id=\"patch_2\">\n    <path d=\"M 20.5625 224.64 \nL 355.3625 224.64 \nL 355.3625 7.2 \nL 20.5625 7.2 \nz\n\" style=\"fill:#ffffff;\"/>\n   </g>\n   <g id=\"matplotlib.axis_1\">\n    <g id=\"xtick_1\">\n     <g id=\"line2d_1\">\n      <defs>\n       <path d=\"M 0 0 \nL 0 3.5 \n\" id=\"ma480fcf765\" style=\"stroke:#000000;stroke-width:0.8;\"/>\n      </defs>\n      <g>\n       <use style=\"stroke:#000000;stroke-width:0.8;\" x=\"35.780682\" xlink:href=\"#ma480fcf765\" y=\"224.64\"/>\n      </g>\n     </g>\n     <g id=\"text_1\">\n      <!-- 0 -->\n      <g transform=\"translate(32.599432 239.238438)scale(0.1 -0.1)\">\n       <defs>\n        <path d=\"M 31.78125 66.40625 \nQ 24.171875 66.40625 20.328125 58.90625 \nQ 16.5 51.421875 16.5 36.375 \nQ 16.5 21.390625 20.328125 13.890625 \nQ 24.171875 6.390625 31.78125 6.390625 \nQ 39.453125 6.390625 43.28125 13.890625 \nQ 47.125 21.390625 47.125 36.375 \nQ 47.125 51.421875 43.28125 58.90625 \nQ 39.453125 66.40625 31.78125 66.40625 \nz\nM 31.78125 74.21875 \nQ 44.046875 74.21875 50.515625 64.515625 \nQ 56.984375 54.828125 56.984375 36.375 \nQ 56.984375 17.96875 50.515625 8.265625 \nQ 44.046875 -1.421875 31.78125 -1.421875 \nQ 19.53125 -1.421875 13.0625 8.265625 \nQ 6.59375 17.96875 6.59375 36.375 \nQ 6.59375 54.828125 13.0625 64.515625 \nQ 19.53125 74.21875 31.78125 74.21875 \nz\n\" id=\"DejaVuSans-48\"/>\n       </defs>\n       <use xlink:href=\"#DejaVuSans-48\"/>\n      </g>\n     </g>\n    </g>\n    <g id=\"xtick_2\">\n     <g id=\"line2d_2\">\n      <g>\n       <use style=\"stroke:#000000;stroke-width:0.8;\" x=\"97.268285\" xlink:href=\"#ma480fcf765\" y=\"224.64\"/>\n      </g>\n     </g>\n     <g id=\"text_2\">\n      <!-- 20 -->\n      <g transform=\"translate(90.905785 239.238438)scale(0.1 -0.1)\">\n       <defs>\n        <path d=\"M 19.1875 8.296875 \nL 53.609375 8.296875 \nL 53.609375 0 \nL 7.328125 0 \nL 7.328125 8.296875 \nQ 12.9375 14.109375 22.625 23.890625 \nQ 32.328125 33.6875 34.8125 36.53125 \nQ 39.546875 41.84375 41.421875 45.53125 \nQ 43.3125 49.21875 43.3125 52.78125 \nQ 43.3125 58.59375 39.234375 62.25 \nQ 35.15625 65.921875 28.609375 65.921875 \nQ 23.96875 65.921875 18.8125 64.3125 \nQ 13.671875 62.703125 7.8125 59.421875 \nL 7.8125 69.390625 \nQ 13.765625 71.78125 18.9375 73 \nQ 24.125 74.21875 28.421875 74.21875 \nQ 39.75 74.21875 46.484375 68.546875 \nQ 53.21875 62.890625 53.21875 53.421875 \nQ 53.21875 48.921875 51.53125 44.890625 \nQ 49.859375 40.875 45.40625 35.40625 \nQ 44.1875 33.984375 37.640625 27.21875 \nQ 31.109375 20.453125 19.1875 8.296875 \nz\n\" id=\"DejaVuSans-50\"/>\n       </defs>\n       <use xlink:href=\"#DejaVuSans-50\"/>\n       <use x=\"63.623047\" xlink:href=\"#DejaVuSans-48\"/>\n      </g>\n     </g>\n    </g>\n    <g id=\"xtick_3\">\n     <g id=\"line2d_3\">\n      <g>\n       <use style=\"stroke:#000000;stroke-width:0.8;\" x=\"158.755888\" xlink:href=\"#ma480fcf765\" y=\"224.64\"/>\n      </g>\n     </g>\n     <g id=\"text_3\">\n      <!-- 40 -->\n      <g transform=\"translate(152.393388 239.238438)scale(0.1 -0.1)\">\n       <defs>\n        <path d=\"M 37.796875 64.3125 \nL 12.890625 25.390625 \nL 37.796875 25.390625 \nz\nM 35.203125 72.90625 \nL 47.609375 72.90625 \nL 47.609375 25.390625 \nL 58.015625 25.390625 \nL 58.015625 17.1875 \nL 47.609375 17.1875 \nL 47.609375 0 \nL 37.796875 0 \nL 37.796875 17.1875 \nL 4.890625 17.1875 \nL 4.890625 26.703125 \nz\n\" id=\"DejaVuSans-52\"/>\n       </defs>\n       <use xlink:href=\"#DejaVuSans-52\"/>\n       <use x=\"63.623047\" xlink:href=\"#DejaVuSans-48\"/>\n      </g>\n     </g>\n    </g>\n    <g id=\"xtick_4\">\n     <g id=\"line2d_4\">\n      <g>\n       <use style=\"stroke:#000000;stroke-width:0.8;\" x=\"220.243492\" xlink:href=\"#ma480fcf765\" y=\"224.64\"/>\n      </g>\n     </g>\n     <g id=\"text_4\">\n      <!-- 60 -->\n      <g transform=\"translate(213.880992 239.238438)scale(0.1 -0.1)\">\n       <defs>\n        <path d=\"M 33.015625 40.375 \nQ 26.375 40.375 22.484375 35.828125 \nQ 18.609375 31.296875 18.609375 23.390625 \nQ 18.609375 15.53125 22.484375 10.953125 \nQ 26.375 6.390625 33.015625 6.390625 \nQ 39.65625 6.390625 43.53125 10.953125 \nQ 47.40625 15.53125 47.40625 23.390625 \nQ 47.40625 31.296875 43.53125 35.828125 \nQ 39.65625 40.375 33.015625 40.375 \nz\nM 52.59375 71.296875 \nL 52.59375 62.3125 \nQ 48.875 64.0625 45.09375 64.984375 \nQ 41.3125 65.921875 37.59375 65.921875 \nQ 27.828125 65.921875 22.671875 59.328125 \nQ 17.53125 52.734375 16.796875 39.40625 \nQ 19.671875 43.65625 24.015625 45.921875 \nQ 28.375 48.1875 33.59375 48.1875 \nQ 44.578125 48.1875 50.953125 41.515625 \nQ 57.328125 34.859375 57.328125 23.390625 \nQ 57.328125 12.15625 50.6875 5.359375 \nQ 44.046875 -1.421875 33.015625 -1.421875 \nQ 20.359375 -1.421875 13.671875 8.265625 \nQ 6.984375 17.96875 6.984375 36.375 \nQ 6.984375 53.65625 15.1875 63.9375 \nQ 23.390625 74.21875 37.203125 74.21875 \nQ 40.921875 74.21875 44.703125 73.484375 \nQ 48.484375 72.75 52.59375 71.296875 \nz\n\" id=\"DejaVuSans-54\"/>\n       </defs>\n       <use xlink:href=\"#DejaVuSans-54\"/>\n       <use x=\"63.623047\" xlink:href=\"#DejaVuSans-48\"/>\n      </g>\n     </g>\n    </g>\n    <g id=\"xtick_5\">\n     <g id=\"line2d_5\">\n      <g>\n       <use style=\"stroke:#000000;stroke-width:0.8;\" x=\"281.731095\" xlink:href=\"#ma480fcf765\" y=\"224.64\"/>\n      </g>\n     </g>\n     <g id=\"text_5\">\n      <!-- 80 -->\n      <g transform=\"translate(275.368595 239.238438)scale(0.1 -0.1)\">\n       <defs>\n        <path d=\"M 31.78125 34.625 \nQ 24.75 34.625 20.71875 30.859375 \nQ 16.703125 27.09375 16.703125 20.515625 \nQ 16.703125 13.921875 20.71875 10.15625 \nQ 24.75 6.390625 31.78125 6.390625 \nQ 38.8125 6.390625 42.859375 10.171875 \nQ 46.921875 13.96875 46.921875 20.515625 \nQ 46.921875 27.09375 42.890625 30.859375 \nQ 38.875 34.625 31.78125 34.625 \nz\nM 21.921875 38.8125 \nQ 15.578125 40.375 12.03125 44.71875 \nQ 8.5 49.078125 8.5 55.328125 \nQ 8.5 64.0625 14.71875 69.140625 \nQ 20.953125 74.21875 31.78125 74.21875 \nQ 42.671875 74.21875 48.875 69.140625 \nQ 55.078125 64.0625 55.078125 55.328125 \nQ 55.078125 49.078125 51.53125 44.71875 \nQ 48 40.375 41.703125 38.8125 \nQ 48.828125 37.15625 52.796875 32.3125 \nQ 56.78125 27.484375 56.78125 20.515625 \nQ 56.78125 9.90625 50.3125 4.234375 \nQ 43.84375 -1.421875 31.78125 -1.421875 \nQ 19.734375 -1.421875 13.25 4.234375 \nQ 6.78125 9.90625 6.78125 20.515625 \nQ 6.78125 27.484375 10.78125 32.3125 \nQ 14.796875 37.15625 21.921875 38.8125 \nz\nM 18.3125 54.390625 \nQ 18.3125 48.734375 21.84375 45.5625 \nQ 25.390625 42.390625 31.78125 42.390625 \nQ 38.140625 42.390625 41.71875 45.5625 \nQ 45.3125 48.734375 45.3125 54.390625 \nQ 45.3125 60.0625 41.71875 63.234375 \nQ 38.140625 66.40625 31.78125 66.40625 \nQ 25.390625 66.40625 21.84375 63.234375 \nQ 18.3125 60.0625 18.3125 54.390625 \nz\n\" id=\"DejaVuSans-56\"/>\n       </defs>\n       <use xlink:href=\"#DejaVuSans-56\"/>\n       <use x=\"63.623047\" xlink:href=\"#DejaVuSans-48\"/>\n      </g>\n     </g>\n    </g>\n    <g id=\"xtick_6\">\n     <g id=\"line2d_6\">\n      <g>\n       <use style=\"stroke:#000000;stroke-width:0.8;\" x=\"343.218698\" xlink:href=\"#ma480fcf765\" y=\"224.64\"/>\n      </g>\n     </g>\n     <g id=\"text_6\">\n      <!-- 100 -->\n      <g transform=\"translate(333.674948 239.238438)scale(0.1 -0.1)\">\n       <defs>\n        <path d=\"M 12.40625 8.296875 \nL 28.515625 8.296875 \nL 28.515625 63.921875 \nL 10.984375 60.40625 \nL 10.984375 69.390625 \nL 28.421875 72.90625 \nL 38.28125 72.90625 \nL 38.28125 8.296875 \nL 54.390625 8.296875 \nL 54.390625 0 \nL 12.40625 0 \nz\n\" id=\"DejaVuSans-49\"/>\n       </defs>\n       <use xlink:href=\"#DejaVuSans-49\"/>\n       <use x=\"63.623047\" xlink:href=\"#DejaVuSans-48\"/>\n       <use x=\"127.246094\" xlink:href=\"#DejaVuSans-48\"/>\n      </g>\n     </g>\n    </g>\n   </g>\n   <g id=\"matplotlib.axis_2\">\n    <g id=\"ytick_1\">\n     <g id=\"line2d_7\">\n      <defs>\n       <path d=\"M 0 0 \nL -3.5 0 \n\" id=\"m5c43486b0c\" style=\"stroke:#000000;stroke-width:0.8;\"/>\n      </defs>\n      <g>\n       <use style=\"stroke:#000000;stroke-width:0.8;\" x=\"20.5625\" xlink:href=\"#m5c43486b0c\" y=\"214.756364\"/>\n      </g>\n     </g>\n     <g id=\"text_7\">\n      <!-- 0 -->\n      <g transform=\"translate(7.2 218.555582)scale(0.1 -0.1)\">\n       <use xlink:href=\"#DejaVuSans-48\"/>\n      </g>\n     </g>\n    </g>\n    <g id=\"ytick_2\">\n     <g id=\"line2d_8\">\n      <g>\n       <use style=\"stroke:#000000;stroke-width:0.8;\" x=\"20.5625\" xlink:href=\"#m5c43486b0c\" y=\"188.462525\"/>\n      </g>\n     </g>\n     <g id=\"text_8\">\n      <!-- 1 -->\n      <g transform=\"translate(7.2 192.261743)scale(0.1 -0.1)\">\n       <use xlink:href=\"#DejaVuSans-49\"/>\n      </g>\n     </g>\n    </g>\n    <g id=\"ytick_3\">\n     <g id=\"line2d_9\">\n      <g>\n       <use style=\"stroke:#000000;stroke-width:0.8;\" x=\"20.5625\" xlink:href=\"#m5c43486b0c\" y=\"162.168686\"/>\n      </g>\n     </g>\n     <g id=\"text_9\">\n      <!-- 2 -->\n      <g transform=\"translate(7.2 165.967905)scale(0.1 -0.1)\">\n       <use xlink:href=\"#DejaVuSans-50\"/>\n      </g>\n     </g>\n    </g>\n    <g id=\"ytick_4\">\n     <g id=\"line2d_10\">\n      <g>\n       <use style=\"stroke:#000000;stroke-width:0.8;\" x=\"20.5625\" xlink:href=\"#m5c43486b0c\" y=\"135.874847\"/>\n      </g>\n     </g>\n     <g id=\"text_10\">\n      <!-- 3 -->\n      <g transform=\"translate(7.2 139.674066)scale(0.1 -0.1)\">\n       <defs>\n        <path d=\"M 40.578125 39.3125 \nQ 47.65625 37.796875 51.625 33 \nQ 55.609375 28.21875 55.609375 21.1875 \nQ 55.609375 10.40625 48.1875 4.484375 \nQ 40.765625 -1.421875 27.09375 -1.421875 \nQ 22.515625 -1.421875 17.65625 -0.515625 \nQ 12.796875 0.390625 7.625 2.203125 \nL 7.625 11.71875 \nQ 11.71875 9.328125 16.59375 8.109375 \nQ 21.484375 6.890625 26.8125 6.890625 \nQ 36.078125 6.890625 40.9375 10.546875 \nQ 45.796875 14.203125 45.796875 21.1875 \nQ 45.796875 27.640625 41.28125 31.265625 \nQ 36.765625 34.90625 28.71875 34.90625 \nL 20.21875 34.90625 \nL 20.21875 43.015625 \nL 29.109375 43.015625 \nQ 36.375 43.015625 40.234375 45.921875 \nQ 44.09375 48.828125 44.09375 54.296875 \nQ 44.09375 59.90625 40.109375 62.90625 \nQ 36.140625 65.921875 28.71875 65.921875 \nQ 24.65625 65.921875 20.015625 65.03125 \nQ 15.375 64.15625 9.8125 62.3125 \nL 9.8125 71.09375 \nQ 15.4375 72.65625 20.34375 73.4375 \nQ 25.25 74.21875 29.59375 74.21875 \nQ 40.828125 74.21875 47.359375 69.109375 \nQ 53.90625 64.015625 53.90625 55.328125 \nQ 53.90625 49.265625 50.4375 45.09375 \nQ 46.96875 40.921875 40.578125 39.3125 \nz\n\" id=\"DejaVuSans-51\"/>\n       </defs>\n       <use xlink:href=\"#DejaVuSans-51\"/>\n      </g>\n     </g>\n    </g>\n    <g id=\"ytick_5\">\n     <g id=\"line2d_11\">\n      <g>\n       <use style=\"stroke:#000000;stroke-width:0.8;\" x=\"20.5625\" xlink:href=\"#m5c43486b0c\" y=\"109.581008\"/>\n      </g>\n     </g>\n     <g id=\"text_11\">\n      <!-- 4 -->\n      <g transform=\"translate(7.2 113.380227)scale(0.1 -0.1)\">\n       <use xlink:href=\"#DejaVuSans-52\"/>\n      </g>\n     </g>\n    </g>\n    <g id=\"ytick_6\">\n     <g id=\"line2d_12\">\n      <g>\n       <use style=\"stroke:#000000;stroke-width:0.8;\" x=\"20.5625\" xlink:href=\"#m5c43486b0c\" y=\"83.287169\"/>\n      </g>\n     </g>\n     <g id=\"text_12\">\n      <!-- 5 -->\n      <g transform=\"translate(7.2 87.086388)scale(0.1 -0.1)\">\n       <defs>\n        <path d=\"M 10.796875 72.90625 \nL 49.515625 72.90625 \nL 49.515625 64.59375 \nL 19.828125 64.59375 \nL 19.828125 46.734375 \nQ 21.96875 47.46875 24.109375 47.828125 \nQ 26.265625 48.1875 28.421875 48.1875 \nQ 40.625 48.1875 47.75 41.5 \nQ 54.890625 34.8125 54.890625 23.390625 \nQ 54.890625 11.625 47.5625 5.09375 \nQ 40.234375 -1.421875 26.90625 -1.421875 \nQ 22.3125 -1.421875 17.546875 -0.640625 \nQ 12.796875 0.140625 7.71875 1.703125 \nL 7.71875 11.625 \nQ 12.109375 9.234375 16.796875 8.0625 \nQ 21.484375 6.890625 26.703125 6.890625 \nQ 35.15625 6.890625 40.078125 11.328125 \nQ 45.015625 15.765625 45.015625 23.390625 \nQ 45.015625 31 40.078125 35.4375 \nQ 35.15625 39.890625 26.703125 39.890625 \nQ 22.75 39.890625 18.8125 39.015625 \nQ 14.890625 38.140625 10.796875 36.28125 \nz\n\" id=\"DejaVuSans-53\"/>\n       </defs>\n       <use xlink:href=\"#DejaVuSans-53\"/>\n      </g>\n     </g>\n    </g>\n    <g id=\"ytick_7\">\n     <g id=\"line2d_13\">\n      <g>\n       <use style=\"stroke:#000000;stroke-width:0.8;\" x=\"20.5625\" xlink:href=\"#m5c43486b0c\" y=\"56.99333\"/>\n      </g>\n     </g>\n     <g id=\"text_13\">\n      <!-- 6 -->\n      <g transform=\"translate(7.2 60.792549)scale(0.1 -0.1)\">\n       <use xlink:href=\"#DejaVuSans-54\"/>\n      </g>\n     </g>\n    </g>\n    <g id=\"ytick_8\">\n     <g id=\"line2d_14\">\n      <g>\n       <use style=\"stroke:#000000;stroke-width:0.8;\" x=\"20.5625\" xlink:href=\"#m5c43486b0c\" y=\"30.699491\"/>\n      </g>\n     </g>\n     <g id=\"text_14\">\n      <!-- 7 -->\n      <g transform=\"translate(7.2 34.49871)scale(0.1 -0.1)\">\n       <defs>\n        <path d=\"M 8.203125 72.90625 \nL 55.078125 72.90625 \nL 55.078125 68.703125 \nL 28.609375 0 \nL 18.3125 0 \nL 43.21875 64.59375 \nL 8.203125 64.59375 \nz\n\" id=\"DejaVuSans-55\"/>\n       </defs>\n       <use xlink:href=\"#DejaVuSans-55\"/>\n      </g>\n     </g>\n    </g>\n   </g>\n   <g id=\"line2d_15\">\n    <path clip-path=\"url(#p640f467c65)\" d=\"M 35.780682 214.756364 \nL 38.855062 188.462525 \nL 41.929442 178.838312 \nL 45.003822 172.212039 \nL 48.078202 166.825965 \nL 51.152583 162.168686 \nL 54.226963 158.006045 \nL 57.301343 154.207552 \nL 60.375723 150.691644 \nL 63.450103 147.403307 \nL 66.524483 144.303351 \nL 69.598864 141.362691 \nL 72.673244 138.559033 \nL 75.747624 135.874847 \nL 78.822004 133.296047 \nL 81.896384 130.811116 \nL 84.970764 128.410495 \nL 88.045145 126.086142 \nL 91.119525 123.83122 \nL 94.193905 121.639855 \nL 97.268285 119.506959 \nL 100.342665 117.428086 \nL 103.417045 115.399328 \nL 106.491426 113.417227 \nL 109.565806 111.478705 \nL 112.640186 109.581008 \nL 115.714566 107.72166 \nL 118.788946 105.898426 \nL 121.863326 104.10928 \nL 124.937707 102.352379 \nL 128.012087 100.62604 \nL 131.086467 98.928721 \nL 134.160847 97.259006 \nL 137.235227 95.615591 \nL 140.309607 93.997271 \nL 143.383988 92.402929 \nL 146.458368 90.831532 \nL 149.532748 89.282115 \nL 152.607128 87.753782 \nL 155.681508 86.245694 \nL 158.755888 84.757068 \nL 161.830269 83.287169 \nL 164.904649 81.835308 \nL 167.979029 80.400836 \nL 171.053409 78.983143 \nL 174.127789 77.581654 \nL 177.202169 76.195826 \nL 180.27655 74.825144 \nL 183.35093 73.469124 \nL 186.42531 72.127304 \nL 189.49969 70.799247 \nL 192.57407 69.484539 \nL 195.64845 68.182784 \nL 198.722831 66.893608 \nL 201.797211 65.616652 \nL 204.871591 64.351575 \nL 207.945971 63.098053 \nL 211.020351 61.855773 \nL 214.094731 60.62444 \nL 217.169112 59.403768 \nL 220.243492 58.193485 \nL 223.317872 56.99333 \nL 226.392252 55.803054 \nL 229.466632 54.622416 \nL 232.541012 53.451186 \nL 235.615393 52.289143 \nL 238.689773 51.136073 \nL 241.764153 49.991773 \nL 244.838533 48.856044 \nL 247.912913 47.728697 \nL 250.987293 46.60955 \nL 254.061674 45.498425 \nL 257.136054 44.395153 \nL 260.210434 43.29957 \nL 263.284814 42.211517 \nL 266.359194 41.130841 \nL 269.433574 40.057393 \nL 272.507955 38.991032 \nL 275.582335 37.931617 \nL 278.656715 36.879016 \nL 281.731095 35.833098 \nL 284.805475 34.793737 \nL 287.879855 33.760813 \nL 290.954236 32.734206 \nL 294.028616 31.713803 \nL 297.102996 30.699491 \nL 300.177376 29.691164 \nL 303.251756 28.688717 \nL 306.326136 27.692047 \nL 309.400517 26.701057 \nL 312.474897 25.71565 \nL 315.549277 24.735732 \nL 318.623657 23.761214 \nL 321.698037 22.792007 \nL 324.772417 21.828025 \nL 327.846798 20.869184 \nL 330.921178 19.915402 \nL 333.995558 18.966602 \nL 337.069938 18.022705 \nL 340.144318 17.083636 \n\" style=\"fill:none;stroke:#1f77b4;stroke-linecap:square;stroke-width:1.5;\"/>\n   </g>\n   <g id=\"patch_3\">\n    <path d=\"M 20.5625 224.64 \nL 20.5625 7.2 \n\" style=\"fill:none;stroke:#000000;stroke-linecap:square;stroke-linejoin:miter;stroke-width:0.8;\"/>\n   </g>\n   <g id=\"patch_4\">\n    <path d=\"M 355.3625 224.64 \nL 355.3625 7.2 \n\" style=\"fill:none;stroke:#000000;stroke-linecap:square;stroke-linejoin:miter;stroke-width:0.8;\"/>\n   </g>\n   <g id=\"patch_5\">\n    <path d=\"M 20.5625 224.64 \nL 355.3625 224.64 \n\" style=\"fill:none;stroke:#000000;stroke-linecap:square;stroke-linejoin:miter;stroke-width:0.8;\"/>\n   </g>\n   <g id=\"patch_6\">\n    <path d=\"M 20.5625 7.2 \nL 355.3625 7.2 \n\" style=\"fill:none;stroke:#000000;stroke-linecap:square;stroke-linejoin:miter;stroke-width:0.8;\"/>\n   </g>\n  </g>\n </g>\n <defs>\n  <clipPath id=\"p640f467c65\">\n   <rect height=\"217.44\" width=\"334.8\" x=\"20.5625\" y=\"7.2\"/>\n  </clipPath>\n </defs>\n</svg>\n",
      "image/png": "[encoded data removed]"
     },
     "metadata": {
      "needs_background": "light"
     }
    }
   ],
   "source": [
    "dom = np.arange(0,100,1)\n",
    "im = pd.Series([h(x) for x in dom])\n",
    "im.plot.line(dom)\n",
    "\n"
   ]
  },
  {
   "source": [
    "El rating de los equipos se obtiene resolviendo el sistema $K r = \\lambda r$ donde $r$ es el autovalor dominante de la matriz $K$. Ordenando las componentes $r_i$ se obtiene el ranking."
   ],
   "cell_type": "markdown",
   "metadata": {}
  },
  {
   "source": [
    "### Implementacion de los algoritmos, pasos\n",
    "\n",
    "\n",
    "#### CMM\n",
    "\n",
    "1. Se definen una matriz de doubles $C$ y un vector de doubles $B$, inicializados nulos.\n",
    "2. Se itera con una variable $i$ en el rango $[0, n)$ y a cada iteracion se suma 1 al elemento i-esimo de $B$ y se le suma 2 al elemento $C_{ii}$ (de la diagonal).\n",
    "3. Se crea un bucle que extrae los datos de un partido, distingue quien es el perdedor (l) y el ganador (w), decrementa $C_{w,l}$ y $C_{l,w}$, se incrementan $C_{l,l}$ y $C{w,w}$ y finalmente se incrementa B_{w} en 0.5 y se decrementa B_{l} en 0.5. \n",
    "4. Tenemos construida la matriz de Colley y el vector $b$ del sistema propuesto.\n",
    "5. Se aplica eliminacion gaussiana sobre la matriz aumentada $C|b$, obteniendose una triangulacion de $C$ y la $b$ correspondiente a la triangulacion.\n",
    "6. Se aplica backward substitution para obtener el vector de ratings en el vector de doubles $r$.  \n",
    "\n",
    "<font color = \"red\">Desarrollar 5 y 6</font>\n",
    "    "
   ],
   "cell_type": "markdown",
   "metadata": {}
  },
  {
   "source": [
    "#### Win Percentage\n",
    "1. Se definen dos vectores de enteros: $Wins$ y $GamesPlayed$, inicializados nulos.\n",
    "2. A medida que vamos leyendo el archivo de entrada, en $GamesPlayed$ sumaremos 1 en los índices $i$ y $j$, que representan los equipos/jugadores que se enfrentan en esta línea del archivo de entrada.\n",
    "3. En el vector $Wins$ también sumaremos 1 en la posición del ganador de ese partido, el cual determinamos comparando sus puntajes\n",
    "4. Creamos el vector resultado $r$, y para cada posición $i$ en el rango $[0, n)$ le asignamos a $r_i$ el resultado de hacer $Wins_i / GamesPlayed_i$"
   ],
   "cell_type": "markdown",
   "metadata": {}
  }
 ]
}