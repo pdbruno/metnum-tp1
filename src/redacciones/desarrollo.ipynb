{
 "metadata": {
  "language_info": {
   "codemirror_mode": {
    "name": "ipython",
    "version": 3
   },
   "file_extension": ".py",
   "mimetype": "text/x-python",
   "name": "python",
   "nbconvert_exporter": "python",
   "pygments_lexer": "ipython3",
   "version": 3
  },
  "orig_nbformat": 2
 },
 "nbformat": 4,
 "nbformat_minor": 2,
 "cells": [
  {
   "source": [
    "## Desarrollo:\n",
    "    - Explicar los métodos numéricos (CMM,WP,?)  \n",
    "    - Se deben mencionar los pasos que siguieron\n",
    "para implementar los algoritmos, las dificultades que fueron encontrando y la descripci ́on de c ́omo las fueron resolviendo.  \n",
    "-incluir explicacion de por que el algoritmo funciona correctamente utilizando CMM  \n",
    "-alternativas consideradas y descartadas para cada uno de los métodos utilizados (CMM, WP, Keener)   \n"
   ],
   "cell_type": "markdown",
   "metadata": {}
  },
  {
   "source": [
    "### Características estudiadas:  \n",
    "1. C es estrictamente diagonal dominante  \n",
    "2. Al ser una matriz estrictamente diagonal dominante, esta es inversible y tiene una única solución. Como tiene una única solución, no será necesario hacer ningún intercambio de filas o columnas durante la EG ya que no tendremos ecuaciones sin solución o infinitas soluciones.  \n",
    "3. ?  \n"
   ],
   "cell_type": "markdown",
   "metadata": {}
  }
 ]
}