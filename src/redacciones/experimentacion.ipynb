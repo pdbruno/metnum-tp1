{
 "metadata": {
  "language_info": {
   "codemirror_mode": {
    "name": "ipython",
    "version": 3
   },
   "file_extension": ".py",
   "mimetype": "text/x-python",
   "name": "python",
   "nbconvert_exporter": "python",
   "pygments_lexer": "ipython3",
   "version": "3.8.5"
  },
  "orig_nbformat": 2,
  "kernelspec": {
   "name": "python3",
   "display_name": "Python 3.8.5 64-bit ('base': conda)",
   "metadata": {
    "interpreter": {
     "hash": "b7a72e0aecaf8ba1a38e5a558578c66160445e8a4907431cad47c18ab66b8d64"
    }
   }
  }
 },
 "nbformat": 4,
 "nbformat_minor": 2,
 "cells": [
  {
   "cell_type": "code",
   "execution_count": 1,
   "metadata": {},
   "outputs": [],
   "source": [
    "import numpy as np\n",
    "import pandas as pd\n"
   ]
  },
  {
   "source": [
    "## Ideas de experimentacion"
   ],
   "cell_type": "markdown",
   "metadata": {}
  },
  {
   "source": [
    "Experimentación\n",
    "Se deberá realizar tanto un análisis cualitativo como cuantitativo de los métodos\n",
    "vistos en el trabajo práctico. "
   ],
   "cell_type": "markdown",
   "metadata": {}
  },
  {
   "source": [
    " # Análisis cuantitativo  \n",
    "Se pide, analizar y reportar los errores obtenidos en el ranking analizando el error\n",
    "absoluto con respecto a los test de la cátedra y los propios generados por el grupo en\n",
    "donde se evidencien problemas.  \n",
    "# Análisis cualitativo  \n",
    "Analizar el comportamiento de los métodos CMM, WP y el elegido por los integrantes\n",
    "del grupo. Entre los experimentos a realizar, se debe como mı́nimo analizar los siguientes\n",
    "aspectos e intentar responder las siguientes preguntas:  \n",
    "1. Utilizar datos de competencias reales que permitan identificar caracterı́sticas dis-\n",
    "tintivas de los métodos, y relacionarlas con eventos que ocurren en los mismos.  \n",
    "Comparar los rankings obtenidos por cada uno de los métodos considerados.  \n",
    "2. ¿El método CMM es justo? Es decir, ¿es posible que el resultado de un partido\n",
    "entre dos equipos afecte indirectamente el ranking de un tercero?  \n",
    "3. Dados los resultados de todos los partidos considerados en la competencia, y un\n",
    "equipo particular, determinar una estrategia que permita obtener la mayor posición\n",
    "posible, buscando minimizar el número de partidos ganados. 2  \n",
    "En todos los casos es obligatorio fundamentar los experimentos planteados, proveer\n",
    "los archivos e información necesarios para replicarlos, presentar los resultados de forma\n",
    "conveniente y clara y analizar los mismos con el nivel de detalle apropiado. En caso de\n",
    "ser necesario, es posible también generar instancias artificiales con el fin de ejemplificar\n",
    "y mostrar un comportamiento determinado.  "
   ],
   "cell_type": "markdown",
   "metadata": {}
  },
  {
   "cell_type": "code",
   "execution_count": 2,
   "metadata": {},
   "outputs": [],
   "source": [
    "import matplotlib.pyplot as plt\n",
    "%matplotlib inline\n"
   ]
  },
  {
   "cell_type": "code",
   "execution_count": 9,
   "metadata": {},
   "outputs": [
    {
     "output_type": "stream",
     "name": "stdout",
     "text": [
      "comienza read\ncomienza while\ncomienza while\ncomienza while\ncomienza while\ncomienza while\n0    0.710187\n1    0.630560\n3    0.433496\n2    0.370552\n4    0.355205\ndtype: float64\ncomienza read\ncomienza while\ncomienza while\ncomienza while\ncomienza while\ncomienza while\n0    1.000000\n1    0.750000\n3    0.500000\n2    0.375000\n4    0.285714\ndtype: float64\ncomienza read\ncomienza while\ncomienza while\ncomienza while\ncomienza while\ncomienza while\n1    0.668208\n3    0.429202\n0    0.379195\n4    0.340459\n2    0.331034\ndtype: float64\n        CMM        WP    Keener\n0  0.710187  1.000000  0.379195\n1  0.630560  0.750000  0.668208\n2  0.370552  0.375000  0.331034\n3  0.433496  0.500000  0.429202\n4  0.355205  0.285714  0.340459\n{'CMM': 0    0.710187\n1    0.630560\n3    0.433496\n2    0.370552\n4    0.355205\ndtype: float64, 'WP': 0    1.000000\n1    0.750000\n3    0.500000\n2    0.375000\n4    0.285714\ndtype: float64, 'Keener': 1    0.668208\n3    0.429202\n0    0.379195\n4    0.340459\n2    0.331034\ndtype: float64}\n"
     ]
    }
   ],
   "source": [
    "!python outs_to_df.py \"../outs/equipo_gano_uno_jugo_uno.out\"\n"
   ]
  },
  {
   "source": [
    "## Instancias propias\n",
    "\n",
    "### Equipo 1 ganador, pocos goles\n",
    "#### Hipotesis: En wp y cmm gana 1 por haber ganado todo y\n",
    "#### Resultado\n",
    "\n"
   ],
   "cell_type": "markdown",
   "metadata": {}
  },
  {
   "source": [
    "### Iguales goles, iguales perdidos, distintos ganados (1 es el que mas gana, 3 es el segundo, 2 el tercero, 4 el que menos)\n",
    "#### Hipotesis: en wp \n",
    "#### Resultado"
   ],
   "cell_type": "markdown",
   "metadata": {}
  },
  {
   "source": [
    "### Equipo que gano el unico que jugo (mostrar la inconsistencia de WP)\n",
    "#### Hipotesis: cuando hay un equipo que gano el unico partido que jugo (y con un solo gol) y el resto no, sale campeon en wp. En keener y cmm rankea mucho peor. (equipo 1 gana 1 a 0 su unico partido, en WP queda encima del equipo 2 que gana 6 y pierde 1)\n",
    "testear que esto no pasa en cmm\n",
    "\n",
    "\n",
    "#### Resultado"
   ],
   "cell_type": "markdown",
   "metadata": {}
  },
  {
   "source": [
    "### Iguales ganados, distintos perdidos, goles distintos\n",
    "#### Hipotesis\n",
    "#### Resultados"
   ],
   "cell_type": "markdown",
   "metadata": {}
  },
  {
   "source": [
    "### Iguales ganados, iguales perdidos, goles distintos\n",
    "#### Hipotesis: En WP todos obtienen el mismo rating, en CMM tambien. Pero en Keener gana quien tiene la mejor relacion ganados-perdidos.\n",
    "#### Resultado\n"
   ],
   "cell_type": "markdown",
   "metadata": {}
  },
  {
   "source": [
    "\n",
    "### Iguales ganados, iguales perdidos,goles distintos (10x goles)\n",
    "#### Hipotesis: En wp y en cmm no tienen ningun efecto (el resultado sera el mismo) y en keener agrandara las diferencias en el ranking.\n",
    "#### Hipotesis: si agrego un cero mas las diferencias en los ratings no deberian ser muy superiores al cambio anterior.\n",
    "#### Resultado"
   ],
   "cell_type": "markdown",
   "metadata": {}
  },
  {
   "cell_type": "code",
   "execution_count": null,
   "metadata": {},
   "outputs": [],
   "source": []
  }
 ]
}