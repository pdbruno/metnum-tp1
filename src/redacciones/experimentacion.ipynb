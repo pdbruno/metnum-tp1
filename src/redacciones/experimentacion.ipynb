{
 "metadata": {
  "language_info": {
   "codemirror_mode": {
    "name": "ipython",
    "version": 3
   },
   "file_extension": ".py",
   "mimetype": "text/x-python",
   "name": "python",
   "nbconvert_exporter": "python",
   "pygments_lexer": "ipython3",
   "version": 3
  },
  "orig_nbformat": 2
 },
 "nbformat": 4,
 "nbformat_minor": 2,
 "cells": [
  {
   "source": [
    "## Ideas de experimentacion"
   ],
   "cell_type": "markdown",
   "metadata": {}
  },
  {
   "source": [
    "Experimentación\n",
    "Se deberá realizar tanto un análisis cualitativo como cuantitativo de los métodos\n",
    "vistos en el trabajo práctico.  \n",
    "# Análisis cuantitativo  \n",
    "Se pide, analizar y reportar los errores obtenidos en el ranking analizando el error\n",
    "absoluto con respecto a los test de la cátedra y los propios generados por el grupo en\n",
    "donde se evidencien problemas.  \n",
    "# Análisis cualitativo  \n",
    "Analizar el comportamiento de los métodos CMM, WP y el elegido por los integrantes\n",
    "del grupo. Entre los experimentos a realizar, se debe como mı́nimo analizar los siguientes\n",
    "aspectos e intentar responder las siguientes preguntas:  \n",
    "1. Utilizar datos de competencias reales que permitan identificar caracterı́sticas dis-\n",
    "tintivas de los métodos, y relacionarlas con eventos que ocurren en los mismos.  \n",
    "Comparar los rankings obtenidos por cada uno de los métodos considerados.  \n",
    "2. ¿El método CMM es justo? Es decir, ¿es posible que el resultado de un partido\n",
    "entre dos equipos afecte indirectamente el ranking de un tercero?  \n",
    "3. Dados los resultados de todos los partidos considerados en la competencia, y un\n",
    "equipo particular, determinar una estrategia que permita obtener la mayor posición\n",
    "posible, buscando minimizar el número de partidos ganados. 2  \n",
    "En todos los casos es obligatorio fundamentar los experimentos planteados, proveer\n",
    "los archivos e información necesarios para replicarlos, presentar los resultados de forma\n",
    "conveniente y clara y analizar los mismos con el nivel de detalle apropiado. En caso de\n",
    "ser necesario, es posible también generar instancias artificiales con el fin de ejemplificar\n",
    "y mostrar un comportamiento determinado.  "
   ],
   "cell_type": "markdown",
   "metadata": {}
  },
  {
   "cell_type": "code",
   "execution_count": null,
   "metadata": {},
   "outputs": [],
   "source": []
  }
 ]
}